{
 "cells": [
  {
   "cell_type": "code",
   "execution_count": 1,
   "metadata": {},
   "outputs": [],
   "source": [
    "import pandas as pd\n",
    "from matplotlib import pyplot as plt"
   ]
  },
  {
   "cell_type": "code",
   "execution_count": 2,
   "metadata": {},
   "outputs": [],
   "source": [
    "data = pd.read_excel('Vive_goals.xlsx')"
   ]
  },
  {
   "cell_type": "code",
   "execution_count": 3,
   "metadata": {},
   "outputs": [
    {
     "data": {
      "text/html": [
       "<div>\n",
       "<style scoped>\n",
       "    .dataframe tbody tr th:only-of-type {\n",
       "        vertical-align: middle;\n",
       "    }\n",
       "\n",
       "    .dataframe tbody tr th {\n",
       "        vertical-align: top;\n",
       "    }\n",
       "\n",
       "    .dataframe thead th {\n",
       "        text-align: right;\n",
       "    }\n",
       "</style>\n",
       "<table border=\"1\" class=\"dataframe\">\n",
       "  <thead>\n",
       "    <tr style=\"text-align: right;\">\n",
       "      <th></th>\n",
       "      <th>Club</th>\n",
       "      <th>Matches</th>\n",
       "      <th>Won</th>\n",
       "      <th>Lost</th>\n",
       "      <th>WinPen</th>\n",
       "      <th>LostPen</th>\n",
       "      <th>Bilans</th>\n",
       "      <th>Points</th>\n",
       "      <th>Goals Scores</th>\n",
       "      <th>Goals Lost</th>\n",
       "    </tr>\n",
       "  </thead>\n",
       "  <tbody>\n",
       "    <tr>\n",
       "      <th>0</th>\n",
       "      <td>PGE VIVE Kielce</td>\n",
       "      <td>24</td>\n",
       "      <td>23</td>\n",
       "      <td>1</td>\n",
       "      <td>0</td>\n",
       "      <td>0</td>\n",
       "      <td>916:608</td>\n",
       "      <td>72</td>\n",
       "      <td>877</td>\n",
       "      <td>576</td>\n",
       "    </tr>\n",
       "    <tr>\n",
       "      <th>1</th>\n",
       "      <td>Orlen Wisła Płock</td>\n",
       "      <td>24</td>\n",
       "      <td>23</td>\n",
       "      <td>1</td>\n",
       "      <td>0</td>\n",
       "      <td>0</td>\n",
       "      <td>715:516</td>\n",
       "      <td>69</td>\n",
       "      <td>715</td>\n",
       "      <td>516</td>\n",
       "    </tr>\n",
       "    <tr>\n",
       "      <th>2</th>\n",
       "      <td>NMC Górnik Zabrze</td>\n",
       "      <td>24</td>\n",
       "      <td>18</td>\n",
       "      <td>4</td>\n",
       "      <td>1</td>\n",
       "      <td>1</td>\n",
       "      <td>699:614</td>\n",
       "      <td>57</td>\n",
       "      <td>699</td>\n",
       "      <td>614</td>\n",
       "    </tr>\n",
       "    <tr>\n",
       "      <th>3</th>\n",
       "      <td>KS Azoty Puławy</td>\n",
       "      <td>24</td>\n",
       "      <td>16</td>\n",
       "      <td>6</td>\n",
       "      <td>0</td>\n",
       "      <td>2</td>\n",
       "      <td>761:673</td>\n",
       "      <td>50</td>\n",
       "      <td>729</td>\n",
       "      <td>634</td>\n",
       "    </tr>\n",
       "    <tr>\n",
       "      <th>4</th>\n",
       "      <td>KPR Gwardia Opole</td>\n",
       "      <td>24</td>\n",
       "      <td>11</td>\n",
       "      <td>11</td>\n",
       "      <td>2</td>\n",
       "      <td>0</td>\n",
       "      <td>647:675</td>\n",
       "      <td>37</td>\n",
       "      <td>647</td>\n",
       "      <td>675</td>\n",
       "    </tr>\n",
       "  </tbody>\n",
       "</table>\n",
       "</div>"
      ],
      "text/plain": [
       "                Club  Matches  Won  Lost  WinPen  LostPen   Bilans  Points  \\\n",
       "0    PGE VIVE Kielce       24   23     1       0        0  916:608      72   \n",
       "1  Orlen Wisła Płock       24   23     1       0        0  715:516      69   \n",
       "2  NMC Górnik Zabrze       24   18     4       1        1  699:614      57   \n",
       "3    KS Azoty Puławy       24   16     6       0        2  761:673      50   \n",
       "4  KPR Gwardia Opole       24   11    11       2        0  647:675      37   \n",
       "\n",
       "   Goals Scores  Goals Lost  \n",
       "0           877         576  \n",
       "1           715         516  \n",
       "2           699         614  \n",
       "3           729         634  \n",
       "4           647         675  "
      ]
     },
     "execution_count": 3,
     "metadata": {},
     "output_type": "execute_result"
    }
   ],
   "source": [
    "data.head(5)"
   ]
  },
  {
   "cell_type": "code",
   "execution_count": 4,
   "metadata": {},
   "outputs": [
    {
     "data": {
      "text/plain": [
       "36.541666666666664"
      ]
     },
     "execution_count": 4,
     "metadata": {},
     "output_type": "execute_result"
    }
   ],
   "source": [
    "data[data['Club'] == 'PGE VIVE Kielce']['Goals Scores'].sum()/24"
   ]
  },
  {
   "cell_type": "code",
   "execution_count": 5,
   "metadata": {},
   "outputs": [
    {
     "data": {
      "text/plain": [
       "36.541666666666664"
      ]
     },
     "execution_count": 5,
     "metadata": {},
     "output_type": "execute_result"
    }
   ],
   "source": [
    "vive_goals_avg = data[data['Club'] == 'PGE VIVE Kielce']['Goals Scores'].sum()/24\n",
    "vive_goals_avg"
   ]
  },
  {
   "cell_type": "code",
   "execution_count": 6,
   "metadata": {},
   "outputs": [
    {
     "data": {
      "text/plain": [
       "26.71794871794872"
      ]
     },
     "execution_count": 6,
     "metadata": {},
     "output_type": "execute_result"
    }
   ],
   "source": [
    "data[data['Club'] != 'PGE VIVE Kielce']['Goals Scores'].sum()/(24*13)"
   ]
  },
  {
   "cell_type": "code",
   "execution_count": 7,
   "metadata": {},
   "outputs": [
    {
     "data": {
      "text/plain": [
       "26.71794871794872"
      ]
     },
     "execution_count": 7,
     "metadata": {},
     "output_type": "execute_result"
    }
   ],
   "source": [
    "other_goals_avg = data[data['Club'] != 'PGE VIVE Kielce']['Goals Scores'].sum()/(24*13)\n",
    "other_goals_avg"
   ]
  },
  {
   "cell_type": "code",
   "execution_count": 8,
   "metadata": {},
   "outputs": [],
   "source": [
    "data['diff'] = data['Goals Scores'] - data['Goals Lost']"
   ]
  },
  {
   "cell_type": "code",
   "execution_count": 9,
   "metadata": {},
   "outputs": [
    {
     "data": {
      "text/html": [
       "<div>\n",
       "<style scoped>\n",
       "    .dataframe tbody tr th:only-of-type {\n",
       "        vertical-align: middle;\n",
       "    }\n",
       "\n",
       "    .dataframe tbody tr th {\n",
       "        vertical-align: top;\n",
       "    }\n",
       "\n",
       "    .dataframe thead th {\n",
       "        text-align: right;\n",
       "    }\n",
       "</style>\n",
       "<table border=\"1\" class=\"dataframe\">\n",
       "  <thead>\n",
       "    <tr style=\"text-align: right;\">\n",
       "      <th></th>\n",
       "      <th>Club</th>\n",
       "      <th>Matches</th>\n",
       "      <th>Won</th>\n",
       "      <th>Lost</th>\n",
       "      <th>WinPen</th>\n",
       "      <th>LostPen</th>\n",
       "      <th>Bilans</th>\n",
       "      <th>Points</th>\n",
       "      <th>Goals Scores</th>\n",
       "      <th>Goals Lost</th>\n",
       "      <th>diff</th>\n",
       "    </tr>\n",
       "  </thead>\n",
       "  <tbody>\n",
       "    <tr>\n",
       "      <th>0</th>\n",
       "      <td>PGE VIVE Kielce</td>\n",
       "      <td>24</td>\n",
       "      <td>23</td>\n",
       "      <td>1</td>\n",
       "      <td>0</td>\n",
       "      <td>0</td>\n",
       "      <td>916:608</td>\n",
       "      <td>72</td>\n",
       "      <td>877</td>\n",
       "      <td>576</td>\n",
       "      <td>301</td>\n",
       "    </tr>\n",
       "    <tr>\n",
       "      <th>1</th>\n",
       "      <td>Orlen Wisła Płock</td>\n",
       "      <td>24</td>\n",
       "      <td>23</td>\n",
       "      <td>1</td>\n",
       "      <td>0</td>\n",
       "      <td>0</td>\n",
       "      <td>715:516</td>\n",
       "      <td>69</td>\n",
       "      <td>715</td>\n",
       "      <td>516</td>\n",
       "      <td>199</td>\n",
       "    </tr>\n",
       "    <tr>\n",
       "      <th>2</th>\n",
       "      <td>NMC Górnik Zabrze</td>\n",
       "      <td>24</td>\n",
       "      <td>18</td>\n",
       "      <td>4</td>\n",
       "      <td>1</td>\n",
       "      <td>1</td>\n",
       "      <td>699:614</td>\n",
       "      <td>57</td>\n",
       "      <td>699</td>\n",
       "      <td>614</td>\n",
       "      <td>85</td>\n",
       "    </tr>\n",
       "    <tr>\n",
       "      <th>3</th>\n",
       "      <td>KS Azoty Puławy</td>\n",
       "      <td>24</td>\n",
       "      <td>16</td>\n",
       "      <td>6</td>\n",
       "      <td>0</td>\n",
       "      <td>2</td>\n",
       "      <td>761:673</td>\n",
       "      <td>50</td>\n",
       "      <td>729</td>\n",
       "      <td>634</td>\n",
       "      <td>95</td>\n",
       "    </tr>\n",
       "    <tr>\n",
       "      <th>4</th>\n",
       "      <td>KPR Gwardia Opole</td>\n",
       "      <td>24</td>\n",
       "      <td>11</td>\n",
       "      <td>11</td>\n",
       "      <td>2</td>\n",
       "      <td>0</td>\n",
       "      <td>647:675</td>\n",
       "      <td>37</td>\n",
       "      <td>647</td>\n",
       "      <td>675</td>\n",
       "      <td>-28</td>\n",
       "    </tr>\n",
       "    <tr>\n",
       "      <th>5</th>\n",
       "      <td>Energa MKS Kalisz</td>\n",
       "      <td>24</td>\n",
       "      <td>10</td>\n",
       "      <td>12</td>\n",
       "      <td>1</td>\n",
       "      <td>1</td>\n",
       "      <td>611:658</td>\n",
       "      <td>33</td>\n",
       "      <td>611</td>\n",
       "      <td>658</td>\n",
       "      <td>-47</td>\n",
       "    </tr>\n",
       "    <tr>\n",
       "      <th>6</th>\n",
       "      <td>Zagłębie Lubin</td>\n",
       "      <td>24</td>\n",
       "      <td>10</td>\n",
       "      <td>13</td>\n",
       "      <td>1</td>\n",
       "      <td>0</td>\n",
       "      <td>633:683</td>\n",
       "      <td>32</td>\n",
       "      <td>633</td>\n",
       "      <td>683</td>\n",
       "      <td>-50</td>\n",
       "    </tr>\n",
       "    <tr>\n",
       "      <th>7</th>\n",
       "      <td>Sandra Spa Pogoń Szczecin</td>\n",
       "      <td>24</td>\n",
       "      <td>10</td>\n",
       "      <td>13</td>\n",
       "      <td>0</td>\n",
       "      <td>1</td>\n",
       "      <td>634:677</td>\n",
       "      <td>31</td>\n",
       "      <td>634</td>\n",
       "      <td>677</td>\n",
       "      <td>-43</td>\n",
       "    </tr>\n",
       "    <tr>\n",
       "      <th>8</th>\n",
       "      <td>Chrobry Głogów</td>\n",
       "      <td>24</td>\n",
       "      <td>8</td>\n",
       "      <td>12</td>\n",
       "      <td>1</td>\n",
       "      <td>3</td>\n",
       "      <td>659:702</td>\n",
       "      <td>29</td>\n",
       "      <td>659</td>\n",
       "      <td>702</td>\n",
       "      <td>-43</td>\n",
       "    </tr>\n",
       "    <tr>\n",
       "      <th>9</th>\n",
       "      <td>Piotrkowianin Piotrków Tryb.</td>\n",
       "      <td>24</td>\n",
       "      <td>7</td>\n",
       "      <td>16</td>\n",
       "      <td>1</td>\n",
       "      <td>0</td>\n",
       "      <td>646:687</td>\n",
       "      <td>23</td>\n",
       "      <td>646</td>\n",
       "      <td>687</td>\n",
       "      <td>-41</td>\n",
       "    </tr>\n",
       "    <tr>\n",
       "      <th>10</th>\n",
       "      <td>MMTS Kwidzyn</td>\n",
       "      <td>24</td>\n",
       "      <td>7</td>\n",
       "      <td>17</td>\n",
       "      <td>0</td>\n",
       "      <td>0</td>\n",
       "      <td>609:694</td>\n",
       "      <td>21</td>\n",
       "      <td>609</td>\n",
       "      <td>694</td>\n",
       "      <td>-85</td>\n",
       "    </tr>\n",
       "    <tr>\n",
       "      <th>11</th>\n",
       "      <td>Torus Wybrzeże Gdańsk</td>\n",
       "      <td>24</td>\n",
       "      <td>6</td>\n",
       "      <td>17</td>\n",
       "      <td>1</td>\n",
       "      <td>0</td>\n",
       "      <td>589:684</td>\n",
       "      <td>20</td>\n",
       "      <td>589</td>\n",
       "      <td>684</td>\n",
       "      <td>-95</td>\n",
       "    </tr>\n",
       "    <tr>\n",
       "      <th>12</th>\n",
       "      <td>SPR Stal Mielec</td>\n",
       "      <td>24</td>\n",
       "      <td>6</td>\n",
       "      <td>17</td>\n",
       "      <td>1</td>\n",
       "      <td>0</td>\n",
       "      <td>592:697</td>\n",
       "      <td>20</td>\n",
       "      <td>592</td>\n",
       "      <td>697</td>\n",
       "      <td>-105</td>\n",
       "    </tr>\n",
       "    <tr>\n",
       "      <th>13</th>\n",
       "      <td>Grupa Azoty Tarnów</td>\n",
       "      <td>24</td>\n",
       "      <td>3</td>\n",
       "      <td>18</td>\n",
       "      <td>1</td>\n",
       "      <td>2</td>\n",
       "      <td>573:716</td>\n",
       "      <td>13</td>\n",
       "      <td>573</td>\n",
       "      <td>716</td>\n",
       "      <td>-143</td>\n",
       "    </tr>\n",
       "  </tbody>\n",
       "</table>\n",
       "</div>"
      ],
      "text/plain": [
       "                            Club  Matches  Won  Lost  WinPen  LostPen  \\\n",
       "0                PGE VIVE Kielce       24   23     1       0        0   \n",
       "1              Orlen Wisła Płock       24   23     1       0        0   \n",
       "2              NMC Górnik Zabrze       24   18     4       1        1   \n",
       "3                KS Azoty Puławy       24   16     6       0        2   \n",
       "4              KPR Gwardia Opole       24   11    11       2        0   \n",
       "5              Energa MKS Kalisz       24   10    12       1        1   \n",
       "6                 Zagłębie Lubin       24   10    13       1        0   \n",
       "7      Sandra Spa Pogoń Szczecin       24   10    13       0        1   \n",
       "8                 Chrobry Głogów       24    8    12       1        3   \n",
       "9   Piotrkowianin Piotrków Tryb.       24    7    16       1        0   \n",
       "10                  MMTS Kwidzyn       24    7    17       0        0   \n",
       "11         Torus Wybrzeże Gdańsk       24    6    17       1        0   \n",
       "12               SPR Stal Mielec       24    6    17       1        0   \n",
       "13            Grupa Azoty Tarnów       24    3    18       1        2   \n",
       "\n",
       "     Bilans  Points  Goals Scores  Goals Lost  diff  \n",
       "0   916:608      72           877         576   301  \n",
       "1   715:516      69           715         516   199  \n",
       "2   699:614      57           699         614    85  \n",
       "3   761:673      50           729         634    95  \n",
       "4   647:675      37           647         675   -28  \n",
       "5   611:658      33           611         658   -47  \n",
       "6   633:683      32           633         683   -50  \n",
       "7   634:677      31           634         677   -43  \n",
       "8   659:702      29           659         702   -43  \n",
       "9   646:687      23           646         687   -41  \n",
       "10  609:694      21           609         694   -85  \n",
       "11  589:684      20           589         684   -95  \n",
       "12  592:697      20           592         697  -105  \n",
       "13  573:716      13           573         716  -143  "
      ]
     },
     "execution_count": 9,
     "metadata": {},
     "output_type": "execute_result"
    }
   ],
   "source": [
    "data"
   ]
  },
  {
   "cell_type": "code",
   "execution_count": 10,
   "metadata": {},
   "outputs": [
    {
     "data": {
      "text/plain": [
       "-23.153846153846153"
      ]
     },
     "execution_count": 10,
     "metadata": {},
     "output_type": "execute_result"
    }
   ],
   "source": [
    "data[data['Club'] != 'PGE VIVE Kielce']['diff'].mean()"
   ]
  },
  {
   "cell_type": "code",
   "execution_count": 11,
   "metadata": {},
   "outputs": [
    {
     "data": {
      "text/plain": [
       "21.5"
      ]
     },
     "execution_count": 11,
     "metadata": {},
     "output_type": "execute_result"
    }
   ],
   "source": [
    "wisla_goals_lost_avg = data[data['Club'] == 'Orlen Wisła Płock']['Goals Lost'].sum()/24\n",
    "wisla_goals_lost_avg"
   ]
  },
  {
   "cell_type": "code",
   "execution_count": 12,
   "metadata": {},
   "outputs": [
    {
     "data": {
      "text/plain": [
       "27.875"
      ]
     },
     "execution_count": 12,
     "metadata": {},
     "output_type": "execute_result"
    }
   ],
   "source": [
    "other_goals_lost_avg = data[data['Club'] != 'Orlen Wisła Płock']['Goals Lost'].mean()/24\n",
    "other_goals_lost_avg"
   ]
  },
  {
   "cell_type": "code",
   "execution_count": 13,
   "metadata": {},
   "outputs": [
    {
     "data": {
      "text/plain": [
       "27.875"
      ]
     },
     "execution_count": 13,
     "metadata": {},
     "output_type": "execute_result"
    }
   ],
   "source": [
    "other_goals_lost_avg = data[data['Club'] != 'Orlen Wisła Płock']['Goals Lost'].sum()/(24*13)\n",
    "other_goals_lost_avg"
   ]
  },
  {
   "cell_type": "code",
   "execution_count": 14,
   "metadata": {},
   "outputs": [
    {
     "data": {
      "image/png": "[encoded data removed]",
      "text/plain": [
       "<Figure size 432x288 with 1 Axes>"
      ]
     },
     "metadata": {},
     "output_type": "display_data"
    }
   ],
   "source": [
    "goals_avg_vs_vive = [vive_goals_avg, other_goals_avg]\n",
    "goals_avg_legend = ['PGE VIVE Kielce', 'Other']\n",
    "colors = ['yellow', 'grey']\n",
    "plt.pie(goals_avg_vs_vive, labels=goals_avg_legend, colors=colors)\n",
    "plt.tight_layout()"
   ]
  },
  {
   "cell_type": "code",
   "execution_count": 15,
   "metadata": {},
   "outputs": [
    {
     "data": {
      "image/png": "[encoded data removed]",
      "text/plain": [
       "<Figure size 432x288 with 1 Axes>"
      ]
     },
     "metadata": {},
     "output_type": "display_data"
    }
   ],
   "source": [
    "goals_avg_vs_vive = [vive_goals_avg, other_goals_avg]\n",
    "goals_avg_legend = ['PGE VIVE Kielce', 'Other']\n",
    "colors = ['#FEE11A', 'grey']\n",
    "plt.pie(goals_avg_vs_vive, labels=goals_avg_legend, colors=colors, startangle=90)\n",
    "plt.tight_layout()"
   ]
  },
  {
   "cell_type": "code",
   "execution_count": 16,
   "metadata": {},
   "outputs": [],
   "source": [
    "def make_autopct(values):\n",
    "    def my_autopct(pct):\n",
    "        val = sum(values) * pct/100\n",
    "        test = 'testowo'\n",
    "        return '{p:.1f} ({v:s})'.format(p=val, v=test)\n",
    "    return my_autopct"
   ]
  },
  {
   "cell_type": "code",
   "execution_count": 17,
   "metadata": {},
   "outputs": [
    {
     "data": {
      "text/plain": [
       "<function __main__.make_autopct.<locals>.my_autopct(pct)>"
      ]
     },
     "execution_count": 17,
     "metadata": {},
     "output_type": "execute_result"
    }
   ],
   "source": [
    "make_autopct(goals_avg_vs_vive)"
   ]
  },
  {
   "cell_type": "code",
   "execution_count": 18,
   "metadata": {},
   "outputs": [
    {
     "data": {
      "text/plain": [
       "([<matplotlib.patches.Wedge at 0x8b81128>,\n",
       "  <matplotlib.patches.Wedge at 0x8b81828>],\n",
       " [Text(-1.0674353125657638, -0.2656724552670646, 'PGE VIVE Kielce'),\n",
       "  Text(1.0674352876917088, 0.26567255520757, 'Other')],\n",
       " [Text(-0.5822374432176892, -0.14491224832748978, '36.5 (testowo)'),\n",
       "  Text(0.5822374296500229, 0.1449123028404927, '26.7 (testowo)')])"
      ]
     },
     "execution_count": 18,
     "metadata": {},
     "output_type": "execute_result"
    },
    {
     "data": {
      "image/png": "[encoded data removed]",
      "text/plain": [
       "<Figure size 432x288 with 1 Axes>"
      ]
     },
     "metadata": {},
     "output_type": "display_data"
    }
   ],
   "source": [
    "goals_avg_vs_vive = [vive_goals_avg, other_goals_avg]\n",
    "goals_avg_legend = ['PGE VIVE Kielce', 'Other']\n",
    "colors = ['#FEE11A', 'grey']\n",
    "plt.tight_layout()\n",
    "plt.title('Goals scored in season 19/20 (mean)')\n",
    "plt.pie(goals_avg_vs_vive, labels=goals_avg_legend, colors=colors, startangle=90, wedgeprops={'edgecolor': 'white'}, autopct=make_autopct(goals_avg_vs_vive), textprops={'fontsize': 13})"
   ]
  },
  {
   "cell_type": "code",
   "execution_count": 19,
   "metadata": {},
   "outputs": [
    {
     "data": {
      "text/plain": [
       "([<matplotlib.patches.Wedge at 0x8b40f28>,\n",
       "  <matplotlib.patches.Wedge at 0x8be3518>],\n",
       " [Text(-1.0774545255323962, 0.2215665710565547, 'Orlen Wisła Płock'),\n",
       "  Text(1.077454525532396, -0.22156657105655483, 'Other')],\n",
       " [Text(-0.5877024684722161, 0.12085449330357527, '21.5 (testowo)'),\n",
       "  Text(0.587702468472216, -0.12085449330357535, '27.9 (testowo)')])"
      ]
     },
     "execution_count": 19,
     "metadata": {},
     "output_type": "execute_result"
    },
    {
     "data": {
      "image/png": "[encoded data removed]",
      "text/plain": [
       "<Figure size 432x288 with 1 Axes>"
      ]
     },
     "metadata": {},
     "output_type": "display_data"
    }
   ],
   "source": [
    "goals_lost_avg_vs_wisla = [wisla_goals_lost_avg, other_goals_lost_avg]\n",
    "goals_avg_legend = ['Orlen Wisła Płock', 'Other']\n",
    "colors = ['#B9D9EB', 'grey']\n",
    "plt.title('Goals lost in season 19/20 (mean)')\n",
    "plt.tight_layout()\n",
    "plt.pie(goals_lost_avg_vs_wisla, labels=goals_avg_legend, colors=colors, startangle=90, wedgeprops={'edgecolor': 'white'}, autopct=make_autopct(goals_lost_avg_vs_wisla), textprops={'fontsize': 13})"
   ]
  },
  {
   "cell_type": "code",
   "execution_count": 20,
   "metadata": {},
   "outputs": [
    {
     "data": {
      "text/plain": [
       "<BarContainer object of 14 artists>"
      ]
     },
     "execution_count": 20,
     "metadata": {},
     "output_type": "execute_result"
    },
    {
     "data": {
      "image/png": "[encoded data removed]",
      "text/plain": [
       "<Figure size 432x288 with 1 Axes>"
      ]
     },
     "metadata": {
      "needs_background": "light"
     },
     "output_type": "display_data"
    }
   ],
   "source": [
    "diff_y = data['diff']\n",
    "diff_x = data['Club']\n",
    "plt.tight_layout()\n",
    "plt.style.use('ggplot')\n",
    "plt.title('PGNiG Superliga Goals difference: Season 19/20')\n",
    "plt.ylabel('Goals Difference')\n",
    "plt.tick_params(axis = 'x', which = 'major', labelsize = 9)\n",
    "plt.xticks(rotation=45,ha='right') \n",
    "plt.bar(diff_x, diff_y)"
   ]
  }
 ],
 "metadata": {
  "kernelspec": {
   "display_name": "Python 3",
   "language": "python",
   "name": "python3"
  },
  "language_info": {
   "codemirror_mode": {
    "name": "ipython",
    "version": 3
   },
   "file_extension": ".py",
   "mimetype": "text/x-python",
   "name": "python",
   "nbconvert_exporter": "python",
   "pygments_lexer": "ipython3",
   "version": "3.7.0"
  }
 },
 "nbformat": 4,
 "nbformat_minor": 2
}
