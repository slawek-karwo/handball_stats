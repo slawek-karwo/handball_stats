{
 "cells": [
  {
   "cell_type": "code",
   "execution_count": 1,
   "metadata": {},
   "outputs": [],
   "source": [
    "import pandas as pd\n",
    "from matplotlib import pyplot as plt"
   ]
  },
  {
   "cell_type": "code",
   "execution_count": 24,
   "metadata": {},
   "outputs": [],
   "source": [
    "data = pd.read_excel('Bundesliga Goals.xlsx')"
   ]
  },
  {
   "cell_type": "code",
   "execution_count": 32,
   "metadata": {},
   "outputs": [
    {
     "data": {
      "text/html": [
       "<div>\n",
       "<style scoped>\n",
       "    .dataframe tbody tr th:only-of-type {\n",
       "        vertical-align: middle;\n",
       "    }\n",
       "\n",
       "    .dataframe tbody tr th {\n",
       "        vertical-align: top;\n",
       "    }\n",
       "\n",
       "    .dataframe thead th {\n",
       "        text-align: right;\n",
       "    }\n",
       "</style>\n",
       "<table border=\"1\" class=\"dataframe\">\n",
       "  <thead>\n",
       "    <tr style=\"text-align: right;\">\n",
       "      <th></th>\n",
       "      <th>Place</th>\n",
       "      <th>Team</th>\n",
       "      <th>Games</th>\n",
       "      <th>Won</th>\n",
       "      <th>Draw</th>\n",
       "      <th>Lost</th>\n",
       "      <th>Ratio</th>\n",
       "      <th>Point</th>\n",
       "      <th>Goal Diff</th>\n",
       "      <th>Score</th>\n",
       "      <th>Lost.1</th>\n",
       "      <th>Score/Lost Ratio</th>\n",
       "    </tr>\n",
       "  </thead>\n",
       "  <tbody>\n",
       "    <tr>\n",
       "      <th>0</th>\n",
       "      <td>1</td>\n",
       "      <td>THW Kiel</td>\n",
       "      <td>26/34</td>\n",
       "      <td>22</td>\n",
       "      <td>0</td>\n",
       "      <td>4</td>\n",
       "      <td>169.2</td>\n",
       "      <td>1900-01-01 20:08:00</td>\n",
       "      <td>132</td>\n",
       "      <td>782</td>\n",
       "      <td>650</td>\n",
       "      <td>1.203077</td>\n",
       "    </tr>\n",
       "    <tr>\n",
       "      <th>1</th>\n",
       "      <td>2</td>\n",
       "      <td>SG Flensburg-Handewitt</td>\n",
       "      <td>27/34</td>\n",
       "      <td>20</td>\n",
       "      <td>2</td>\n",
       "      <td>5</td>\n",
       "      <td>155.6</td>\n",
       "      <td>1900-01-01 18:12:00</td>\n",
       "      <td>85</td>\n",
       "      <td>732</td>\n",
       "      <td>647</td>\n",
       "      <td>1.131376</td>\n",
       "    </tr>\n",
       "    <tr>\n",
       "      <th>2</th>\n",
       "      <td>3</td>\n",
       "      <td>SC MagdeburgSC Magdeburg</td>\n",
       "      <td>27/34</td>\n",
       "      <td>19</td>\n",
       "      <td>1</td>\n",
       "      <td>7</td>\n",
       "      <td>144.4</td>\n",
       "      <td>1900-01-01 15:15:00</td>\n",
       "      <td>65</td>\n",
       "      <td>782</td>\n",
       "      <td>717</td>\n",
       "      <td>1.090656</td>\n",
       "    </tr>\n",
       "    <tr>\n",
       "      <th>3</th>\n",
       "      <td>4</td>\n",
       "      <td>TSV Hannover-Burgdorf</td>\n",
       "      <td>27/34</td>\n",
       "      <td>16</td>\n",
       "      <td>4</td>\n",
       "      <td>7</td>\n",
       "      <td>133.3</td>\n",
       "      <td>1900-01-01 12:18:00</td>\n",
       "      <td>42</td>\n",
       "      <td>778</td>\n",
       "      <td>736</td>\n",
       "      <td>1.057065</td>\n",
       "    </tr>\n",
       "    <tr>\n",
       "      <th>4</th>\n",
       "      <td>5</td>\n",
       "      <td>Rhein-Neckar Löwen</td>\n",
       "      <td>26/34</td>\n",
       "      <td>15</td>\n",
       "      <td>4</td>\n",
       "      <td>7</td>\n",
       "      <td>130.8</td>\n",
       "      <td>1900-01-01 10:18:00</td>\n",
       "      <td>43</td>\n",
       "      <td>729</td>\n",
       "      <td>686</td>\n",
       "      <td>1.062682</td>\n",
       "    </tr>\n",
       "  </tbody>\n",
       "</table>\n",
       "</div>"
      ],
      "text/plain": [
       "   Place                      Team  Games  Won  Draw  Lost  Ratio  \\\n",
       "0      1                  THW Kiel  26/34   22     0     4  169.2   \n",
       "1      2    SG Flensburg-Handewitt  27/34   20     2     5  155.6   \n",
       "2      3  SC MagdeburgSC Magdeburg  27/34   19     1     7  144.4   \n",
       "3      4     TSV Hannover-Burgdorf  27/34   16     4     7  133.3   \n",
       "4      5        Rhein-Neckar Löwen  26/34   15     4     7  130.8   \n",
       "\n",
       "                 Point  Goal Diff  Score  Lost.1  Score/Lost Ratio  \n",
       "0  1900-01-01 20:08:00        132    782     650          1.203077  \n",
       "1  1900-01-01 18:12:00         85    732     647          1.131376  \n",
       "2  1900-01-01 15:15:00         65    782     717          1.090656  \n",
       "3  1900-01-01 12:18:00         42    778     736          1.057065  \n",
       "4  1900-01-01 10:18:00         43    729     686          1.062682  "
      ]
     },
     "execution_count": 32,
     "metadata": {},
     "output_type": "execute_result"
    }
   ],
   "source": [
    "data.head(5)"
   ]
  },
  {
   "cell_type": "code",
   "execution_count": 30,
   "metadata": {},
   "outputs": [],
   "source": [
    "labels = data['Team']\n",
    "x = data['Score']\n",
    "y = data['Lost.1']"
   ]
  },
  {
   "cell_type": "code",
   "execution_count": 40,
   "metadata": {},
   "outputs": [],
   "source": [
    "data['Score/Lost Ratio'] = data['Score']/data['Lost.1']"
   ]
  },
  {
   "cell_type": "code",
   "execution_count": 72,
   "metadata": {},
   "outputs": [],
   "source": [
    "plt.style.use('ggplot')"
   ]
  },
  {
   "cell_type": "code",
   "execution_count": 74,
   "metadata": {},
   "outputs": [
    {
     "data": {
      "text/plain": [
       "['bmh',\n",
       " 'classic',\n",
       " 'dark_background',\n",
       " 'fast',\n",
       " 'fivethirtyeight',\n",
       " 'ggplot',\n",
       " 'grayscale',\n",
       " 'seaborn-bright',\n",
       " 'seaborn-colorblind',\n",
       " 'seaborn-dark-palette',\n",
       " 'seaborn-dark',\n",
       " 'seaborn-darkgrid',\n",
       " 'seaborn-deep',\n",
       " 'seaborn-muted',\n",
       " 'seaborn-notebook',\n",
       " 'seaborn-paper',\n",
       " 'seaborn-pastel',\n",
       " 'seaborn-poster',\n",
       " 'seaborn-talk',\n",
       " 'seaborn-ticks',\n",
       " 'seaborn-white',\n",
       " 'seaborn-whitegrid',\n",
       " 'seaborn',\n",
       " 'Solarize_Light2',\n",
       " 'tableau-colorblind10',\n",
       " '_classic_test']"
      ]
     },
     "execution_count": 74,
     "metadata": {},
     "output_type": "execute_result"
    }
   ],
   "source": [
    "plt.style.available"
   ]
  },
  {
   "cell_type": "code",
   "execution_count": 75,
   "metadata": {},
   "outputs": [],
   "source": [
    "plt.style.use('seaborn')"
   ]
  },
  {
   "cell_type": "code",
   "execution_count": 76,
   "metadata": {
    "scrolled": true
   },
   "outputs": [
    {
     "data": {
      "image/png": "[encoded data removed]",
      "text/plain": [
       "<Figure size 576x396 with 2 Axes>"
      ]
     },
     "metadata": {},
     "output_type": "display_data"
    }
   ],
   "source": [
    "plt.scatter(x, y, s=100, c=data['Score/Lost Ratio'], cmap='YlOrRd')\n",
    "plt.tight_layout()\n",
    "for i, txt in enumerate(labels):\n",
    "    plt.annotate(txt, (x[i], y[i]), size=8)\n",
    "    \n",
    "cbar = plt.colorbar(orientation=\"horizontal\")\n",
    "cbar.set_label('Score/Lost Ratio', size=9)\n",
    "plt.xlabel('Goals Scored', size=10)\n",
    "plt.ylabel('Goals Lost', size=10)\n",
    "plt.title('Handball Bundesliga season 19/20', size=12)\n",
    "plt.savefig('bundesliga.png')"
   ]
  },
  {
   "cell_type": "code",
   "execution_count": null,
   "metadata": {},
   "outputs": [],
   "source": []
  }
 ],
 "metadata": {
  "kernelspec": {
   "display_name": "Python 3",
   "language": "python",
   "name": "python3"
  },
  "language_info": {
   "codemirror_mode": {
    "name": "ipython",
    "version": 3
   },
   "file_extension": ".py",
   "mimetype": "text/x-python",
   "name": "python",
   "nbconvert_exporter": "python",
   "pygments_lexer": "ipython3",
   "version": "3.7.0"
  }
 },
 "nbformat": 4,
 "nbformat_minor": 2
}
